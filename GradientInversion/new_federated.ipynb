{
 "cells": [
  {
   "cell_type": "code",
   "execution_count": 1,
   "metadata": {},
   "outputs": [],
   "source": [
    "import numpy as np\n",
    "import torch\n",
    "import torch.nn as nn\n",
    "import torch.optim as optim\n",
    "import torchvision\n",
    "import torchvision.transforms as transforms\n",
    "from matplotlib import pyplot as plt\n",
    "from sklearn.metrics import accuracy_score\n",
    "\n",
    "# from aijack.attack import GAN_Attack\n",
    "from aijack.collaborative import FedAvgClient, FedAvgServer\n",
    "from aijack.utils import NumpyDataset"
   ]
  },
  {
   "cell_type": "code",
   "execution_count": 2,
   "metadata": {},
   "outputs": [],
   "source": [
    "batch_size = 3\n",
    "\n",
    "class LeNet(nn.Module):\n",
    "    def __init__(self, channel=3, hideen=768, num_classes=10):\n",
    "        super(LeNet, self).__init__()\n",
    "        act = nn.Sigmoid\n",
    "        self.body = nn.Sequential(\n",
    "            nn.Conv2d(channel, 12, kernel_size=5, padding=5 // 2, stride=2),\n",
    "            nn.BatchNorm2d(12),\n",
    "            act(),\n",
    "            nn.Conv2d(12, 12, kernel_size=5, padding=5 // 2, stride=2),\n",
    "            nn.BatchNorm2d(12),\n",
    "            act(),\n",
    "            nn.Conv2d(12, 12, kernel_size=5, padding=5 // 2, stride=1),\n",
    "            nn.BatchNorm2d(12),\n",
    "            act(),\n",
    "        )\n",
    "        self.fc = nn.Sequential(\n",
    "            nn.Linear(hideen, num_classes)\n",
    "        )\n",
    "\n",
    "    def forward(self, x):\n",
    "        out = self.body(x)\n",
    "        out = out.view(out.size(0), -1)\n",
    "        out = self.fc(out)\n",
    "        return out\n",
    "\n",
    "def prepare_dataloaders():\n",
    "    at_t_dataset_train = torchvision.datasets.MNIST(\n",
    "        root=\"./\", train=True, download=True\n",
    "    )\n",
    "    at_t_dataset_test = torchvision.datasets.MNIST(\n",
    "        root=\"./\", train=False, download=True\n",
    "    )\n",
    "\n",
    "    X = at_t_dataset_train.data.numpy()\n",
    "    y = at_t_dataset_train.targets.numpy()\n",
    "\n",
    "    # ToTensor：画像のグレースケール化（RGBの0~255を0~1の範囲に正規化）、Normalize：Z値化（RGBの平均と標準偏差を0.5で決め打ちして正規化）\n",
    "    transform = transforms.Compose(\n",
    "        [transforms.ToTensor(), transforms.Normalize((0.5,), (0.5,))]\n",
    "    )\n",
    "\n",
    "    # idx_1 = random.sample(range(400), 200)\n",
    "    # idx_2 = list(set(range(400)) - set(idx_1))\n",
    "    idx_1 = np.where(y < 5)[0]\n",
    "    idx_2 = np.where(y >= 5)[0]\n",
    "\n",
    "    global_trainset = NumpyDataset(\n",
    "        at_t_dataset_test.data.numpy(),\n",
    "        at_t_dataset_test.targets.numpy(),\n",
    "        transform=transform,\n",
    "    )\n",
    "    global_trainloader = torch.utils.data.DataLoader(\n",
    "        global_trainset, batch_size=batch_size, shuffle=True, num_workers=2\n",
    "    )\n",
    "    trainset_1 = NumpyDataset(X[idx_1], y[idx_1], transform=transform)\n",
    "    trainloader_1 = torch.utils.data.DataLoader(\n",
    "        trainset_1, batch_size=batch_size, shuffle=True, num_workers=2\n",
    "    )\n",
    "    trainset_2 = NumpyDataset(X[idx_2], y[idx_2], transform=transform)\n",
    "    trainloader_2 = torch.utils.data.DataLoader(\n",
    "        trainset_2, batch_size=batch_size, shuffle=True, num_workers=2\n",
    "    )\n",
    "\n",
    "    return X, y, [trainloader_1, trainloader_2], global_trainloader, [200, 200]"
   ]
  },
  {
   "cell_type": "code",
   "execution_count": 3,
   "metadata": {},
   "outputs": [
    {
     "name": "stdout",
     "output_type": "stream",
     "text": [
      "cpu\n"
     ]
    }
   ],
   "source": [
    "device = torch.device(\"cuda:0\") if torch.cuda.is_available() else \"cpu\"\n",
    "print(device)\n",
    "\n",
    "X, y, trainloaders, global_trainloader, dataset_nums = prepare_dataloaders()"
   ]
  },
  {
   "cell_type": "code",
   "execution_count": 4,
   "metadata": {},
   "outputs": [],
   "source": [
    "from aijack.collaborative import FedAvgClient, FedAvgServer\n",
    "\n",
    "shape_img = (28, 28)\n",
    "num_classes = 10\n",
    "channel = 1\n",
    "hidden = 588\n",
    "\n",
    "net_1 = LeNet(channel=channel, hideen=hidden, num_classes=num_classes)\n",
    "net_2 = LeNet(channel=channel, hideen=hidden, num_classes=num_classes)\n",
    "global_model = LeNet(channel=channel, hideen=hidden, num_classes=num_classes)\n",
    "\n",
    "clients = [FedAvgClient(net_1, user_id=0), FedAvgClient(net_2, user_id=1)]\n",
    "optimizers = [optim.SGD(clients[0].parameters(), lr=0.02, weight_decay=1e-7, momentum=0.9), optim.SGD(clients[1].parameters(), lr=0.02, weight_decay=1e-7, momentum=0.9)]\n",
    "server = FedAvgServer(clients, global_model)\n",
    "criterion = nn.CrossEntropyLoss()\n",
    "optimizer = optim.SGD(\n",
    "        server.parameters(), lr=0.02, weight_decay=1e-7, momentum=0.9\n",
    "    )\n",
    "\n",
    "# for epoch in range(3):\n",
    "#     print(epoch)\n",
    "#     for client, local_trainloader, local_optimizer in zip(clients, trainloaders, optimizers):\n",
    "#         for data in local_trainloader:\n",
    "#             inputs, labels = data\n",
    "#             local_optimizer.zero_grad()\n",
    "#             outputs = client(inputs)\n",
    "#             loss = criterion(outputs, labels.to(torch.int64))\n",
    "#             client.backward(loss)\n",
    "#             optimizer.step()\n",
    "#             print(loss)\n",
    "#     server.action()"
   ]
  },
  {
   "cell_type": "code",
   "execution_count": 5,
   "metadata": {},
   "outputs": [
    {
     "name": "stdout",
     "output_type": "stream",
     "text": [
      "iter=10: 71.49229431152344, (best_iter=10: 71.49229431152344)\n",
      "iter=20: 70.78050231933594, (best_iter=20: 70.78050231933594)\n",
      "iter=30: 70.54597473144531, (best_iter=30: 70.54597473144531)\n",
      "iter=40: 70.5264892578125, (best_iter=40: 70.5264892578125)\n",
      "iter=50: 70.52376556396484, (best_iter=50: 70.52376556396484)\n",
      "iter=60: 70.52336883544922, (best_iter=60: 70.52336883544922)\n",
      "iter=70: 70.52311706542969, (best_iter=70: 70.52311706542969)\n",
      "iter=80: 70.52298736572266, (best_iter=80: 70.52298736572266)\n",
      "iter=90: 70.52283477783203, (best_iter=89: 70.5228271484375)\n",
      "iter=100: 70.52275085449219, (best_iter=98: 70.52275085449219)\n",
      "iter=110: 70.52272033691406, (best_iter=106: 70.52272033691406)\n",
      "iter=120: 70.5226821899414, (best_iter=113: 70.5226821899414)\n",
      "iter=130: 70.52265930175781, (best_iter=129: 70.52265930175781)\n",
      "iter=140: 70.52265930175781, (best_iter=133: 70.52265167236328)\n",
      "iter=150: 70.52264404296875, (best_iter=143: 70.52264404296875)\n",
      "iter=160: 70.52262878417969, (best_iter=159: 70.52261352539062)\n",
      "iter=170: 70.52261352539062, (best_iter=166: 70.5226058959961)\n",
      "iter=180: 70.52262115478516, (best_iter=166: 70.5226058959961)\n",
      "iter=190: 70.52261352539062, (best_iter=188: 70.52259826660156)\n",
      "iter=200: 70.5226058959961, (best_iter=188: 70.52259826660156)\n",
      "iter=210: 70.52259826660156, (best_iter=204: 70.52259063720703)\n",
      "iter=220: 70.5226058959961, (best_iter=204: 70.52259063720703)\n",
      "iter=230: 70.52261352539062, (best_iter=204: 70.52259063720703)\n",
      "iter=240: 70.5226058959961, (best_iter=204: 70.52259063720703)\n",
      "iter=250: 70.52262115478516, (best_iter=204: 70.52259063720703)\n",
      "iter=255: loss did not improve in the last 50 rounds.\n"
     ]
    }
   ],
   "source": [
    "from aijack.attack import GradientInversion_Attack, GradientInversionAttackManager\n",
    "\n",
    "# # DLG Attack (Zhu, Ligeng, Zhijian Liu, and Song Han. \"Deep leakage from gradients.\" Advances in Neural Information Processing Systems 32 (2019).)\n",
    "# dlg_manager = GradientInversionAttackManager((1, 28, 28), distancename=\"l2\")\n",
    "# FedAvgServer_DLG = dlg_manager.attach(FedAvgServer)\n",
    "\n",
    "# # GS Attack (Geiping, Jonas, et al. \"Inverting gradients-how easy is it to break privacy in federated learning?.\" Advances in Neural Information Processing Systems 33 (2020): 16937-16947.)\n",
    "# gs_manager = GradientInversionAttackManager((1, 28, 28), distancename=\"cossim\", tv_reg_coef=0.01)\n",
    "# FedAvgServer_GS = gs_manager.attach(FedAvgServer)\n",
    "\n",
    "# iDLG (Zhao, Bo, Konda Reddy Mopuri, and Hakan Bilen. \"idlg: Improved deep leakage from gradients.\" arXiv preprint arXiv:2001.02610 (2020).)\n",
    "idlg_manager = GradientInversionAttackManager((1, 28, 28), distancename=\"l2\", num_iteration=1000, optimize_label=False)\n",
    "FedAvgServer_iDLG = idlg_manager.attach(FedAvgServer)\n",
    "\n",
    "# # CPL (Wei, Wenqi, et al. \"A framework for evaluating gradient leakage attacks in federated learning.\" arXiv preprint arXiv:2004.10397 (2020).)\n",
    "# cpl_manager = GradientInversionAttackManager((1, 28, 28), distancename=\"l2\", optimize_label=False, lm_reg_coef=0.01)\n",
    "# FedAvgServer_CPL = cpl_manager.attach(FedAvgServer)\n",
    "\n",
    "# # GradInversion (Yin, Hongxu, et al. \"See through gradients: Image batch recovery via gradinversion.\" Proceedings of the IEEE/CVF Conference on Computer Vision and Pattern Recognition. 2021.)\n",
    "# gi_manager = GradientInversionAttackManager((1, 28, 28), distancename=\"l2\", optimize_label=False, bn_reg_layers=[global_model.body[1], global_model.body[4], global_model.body[7]],\n",
    "#                                     group_num = 5, tv_reg_coef=0.00, l2_reg_coef=0.0001, bn_reg_coef=0.001, gc_reg_coef=0.001)\n",
    "# FedAvgServer_GI = gi_manager.attach(FedAvgServer)\n",
    "\n",
    "server = FedAvgServer_iDLG(clients, global_model, lr=0.02)\n",
    "# --- normal federated learning --- #\n",
    "criterion = nn.CrossEntropyLoss()\n",
    "optimizer = optim.SGD(\n",
    "        server.parameters(), lr=0.02, weight_decay=1e-7, momentum=0.9\n",
    "    )\n",
    "\n",
    "\n",
    "for client, local_trainloader, local_optimizer in zip(clients, trainloaders, optimizers):\n",
    "    for data in local_trainloader:\n",
    "        inputs, labels = data\n",
    "        local_optimizer.zero_grad()\n",
    "        outputs = client(inputs)\n",
    "        loss = criterion(outputs, labels.to(torch.int64))\n",
    "        client.backward(loss)\n",
    "        optimizer.step()\n",
    "    \n",
    "server.action()\n",
    "reconstructed_image, reconstructed_label = server.attack()"
   ]
  },
  {
   "cell_type": "code",
   "execution_count": 7,
   "metadata": {},
   "outputs": [
    {
     "data": {
      "text/plain": [
       "Text(0.5, 1.0, '0')"
      ]
     },
     "execution_count": 7,
     "metadata": {},
     "output_type": "execute_result"
    },
    {
     "data": {
      "image/png": "[encoded data removed]",
      "text/plain": [
       "<Figure size 432x288 with 1 Axes>"
      ]
     },
     "metadata": {
      "needs_background": "light"
     },
     "output_type": "display_data"
    }
   ],
   "source": [
    "fig = plt.figure()\n",
    "ax1 = fig.add_subplot(1, 1, 1)\n",
    "ax1.imshow(reconstructed_image.detach().numpy()[0][0], cmap=\"gray\")\n",
    "ax1.axis(\"off\")\n",
    "ax1.set_title(reconstructed_label.item())"
   ]
  },
  {
   "cell_type": "code",
   "execution_count": null,
   "metadata": {},
   "outputs": [],
   "source": []
  }
 ],
 "metadata": {
  "interpreter": {
   "hash": "3afb210fe50ad1836e9c960d622d1338248a5c454d742c389c06a20b52875194"
  },
  "kernelspec": {
   "display_name": "Python 3.7.9 ('.venv': venv)",
   "language": "python",
   "name": "python3"
  },
  "language_info": {
   "codemirror_mode": {
    "name": "ipython",
    "version": 3
   },
   "file_extension": ".py",
   "mimetype": "text/x-python",
   "name": "python",
   "nbconvert_exporter": "python",
   "pygments_lexer": "ipython3",
   "version": "3.7.9"
  },
  "orig_nbformat": 4
 },
 "nbformat": 4,
 "nbformat_minor": 2
}
